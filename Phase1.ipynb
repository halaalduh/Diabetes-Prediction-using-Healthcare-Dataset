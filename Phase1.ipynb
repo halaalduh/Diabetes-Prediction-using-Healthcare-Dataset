{
  "nbformat": 4,
  "nbformat_minor": 0,
  "metadata": {
    "colab": {
      "provenance": [],
      "authorship_tag": "ABX9TyPtwScn/kdIqKiSmjABSc9X",
      "include_colab_link": true
    },
    "kernelspec": {
      "name": "python3",
      "display_name": "Python 3"
    },
    "language_info": {
      "name": "python"
    }
  },
  "cells": [
    {
      "cell_type": "markdown",
      "metadata": {
        "id": "view-in-github",
        "colab_type": "text"
      },
      "source": [
        "<a href=\"https://colab.research.google.com/github/halaalduh/Diabetes-Prediction-using-Healthcare-Dataset/blob/main/Phase1.ipynb\" target=\"_parent\"><img src=\"https://colab.research.google.com/assets/colab-badge.svg\" alt=\"Open In Colab\"/></a>"
      ]
    },
    {
      "cell_type": "markdown",
      "source": [
        "# Project Goal\n",
        "The purpose of this project is to perform classification and clustering tasks on the Healthcare Diabetes dataset. Specifically, we aim to classify whether a patient has diabetes or not based on various health parameters, and to explore inherent groupings within the data.\n",
        "\n",
        "# Dataset Source\n",
        "This dataset was obtained from Kaggle:\n",
        "\n",
        "URL: https://www.kaggle.com/datasets/nanditapore/healthcare-diabetes\n",
        "\n",
        "# Dataset Description\n"
      ],
      "metadata": {
        "id": "SKtdXUC9qwhN"
      }
    },
    {
      "cell_type": "code",
      "source": [
        "import pandas as pd\n",
        "\n",
        "\n",
        "file_path = '/Healthcare-Diabetes.csv'\n",
        "df = pd.read_csv(file_path)\n",
        "\n",
        "\n",
        "# Number and data types of attributes\n",
        "print(\"\\n Attributes and Data Types:\")\n",
        "print(df.dtypes)\n",
        "num_attributes = len(df.columns)\n",
        "print(\"Number of attributes:\", num_attributes)\n",
        "\n",
        "# Number of objects\n",
        "num_records = len(df)\n",
        "print(\"\\n Number of records (rows):\", num_records)\n",
        "\n",
        "\n",
        "\n",
        "#Class attribute with its values and print the count of instances for each label\n",
        "print(\"\\nCount of instances for each label:\")\n",
        "counts = df['Outcome'].value_counts()\n",
        "print(counts)\n",
        "\n",
        "\n",
        "# sample of the raw dataset\n",
        "print(\"\\n Sample of the raw dataset:\")\n",
        "print(df.head())\n",
        "\n",
        "\n"
      ],
      "metadata": {
        "colab": {
          "base_uri": "https://localhost:8080/"
        },
        "id": "d2IeER0UtYPr",
        "outputId": "99c80846-5495-4d78-bab3-82d8f49bb604"
      },
      "execution_count": null,
      "outputs": [
        {
          "output_type": "stream",
          "name": "stdout",
          "text": [
            "\n",
            " Attributes and Data Types:\n",
            "Id                            int64\n",
            "Pregnancies                   int64\n",
            "Glucose                       int64\n",
            "BloodPressure                 int64\n",
            "SkinThickness                 int64\n",
            "Insulin                       int64\n",
            "BMI                         float64\n",
            "DiabetesPedigreeFunction    float64\n",
            "Age                           int64\n",
            "Outcome                       int64\n",
            "dtype: object\n",
            "Number of attributes: 10\n",
            "\n",
            " Number of records (rows): 2768\n",
            "\n",
            "Count of instances for each label:\n",
            "Outcome\n",
            "0    1816\n",
            "1     952\n",
            "dtype: int64\n",
            "Outcome\n",
            "0    1816\n",
            "1     952\n",
            "Name: count, dtype: int64\n",
            "\n",
            " Sample of the raw dataset:\n",
            "   Id  Pregnancies  Glucose  BloodPressure  SkinThickness  Insulin   BMI  \\\n",
            "0   1            6      148             72             35        0  33.6   \n",
            "1   2            1       85             66             29        0  26.6   \n",
            "2   3            8      183             64              0        0  23.3   \n",
            "3   4            1       89             66             23       94  28.1   \n",
            "4   5            0      137             40             35      168  43.1   \n",
            "\n",
            "   DiabetesPedigreeFunction  Age  Outcome  \n",
            "0                     0.627   50        1  \n",
            "1                     0.351   31        0  \n",
            "2                     0.672   32        1  \n",
            "3                     0.167   21        0  \n",
            "4                     2.288   33        1  \n"
          ]
        }
      ]
    }
  ]
}