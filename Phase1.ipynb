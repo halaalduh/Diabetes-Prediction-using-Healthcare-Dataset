{
  "nbformat": 4,
  "nbformat_minor": 0,
  "metadata": {
    "colab": {
      "provenance": [],
      "include_colab_link": true
    },
    "kernelspec": {
      "name": "python3",
      "display_name": "Python 3"
    },
    "language_info": {
      "name": "python"
    }
  },
  "cells": [
    {
      "cell_type": "markdown",
      "metadata": {
        "id": "view-in-github",
        "colab_type": "text"
      },
      "source": [
        "<a href=\"https://colab.research.google.com/github/halaalduh/Diabetes-Prediction-using-Healthcare-Dataset/blob/main/Phase1.ipynb\" target=\"_parent\"><img src=\"https://colab.research.google.com/assets/colab-badge.svg\" alt=\"Open In Colab\"/></a>"
      ]
    },
    {
      "cell_type": "markdown",
      "source": [
        "# Project Goal\n",
        "The purpose of this project is to perform classification and clustering tasks on the Healthcare Diabetes dataset. Specifically, we aim to classify whether a patient has diabetes or not based on various health parameters, and to explore inherent groupings within the data.\n",
        "\n",
        "# Dataset Source\n",
        "This dataset was obtained from Kaggle:\n",
        "\n",
        "URL: https://www.kaggle.com/datasets/nanditapore/healthcare-diabetes\n",
        "\n",
        "# Dataset Description\n"
      ],
      "metadata": {
        "id": "SKtdXUC9qwhN"
      }
    },
    {
      "cell_type": "code",
      "source": [
        "import pandas as pd\n",
        "\n",
        "\n",
        "file_path = '/Healthcare-Diabetes.csv'\n",
        "df = pd.read_csv(file_path)"
      ],
      "metadata": {
        "id": "AKggju4EHk8p"
      },
      "execution_count": 3,
      "outputs": []
    },
    {
      "cell_type": "code",
      "source": [
        "# Number and data types of attributes\n",
        "print(\"\\n Attributes and Data Types:\")\n",
        "print(df.dtypes)\n",
        "num_attributes = len(df.columns)\n",
        "print(\"Number of attributes:\", num_attributes)"
      ],
      "metadata": {
        "colab": {
          "base_uri": "https://localhost:8080/"
        },
        "id": "0FKlyZXkIAxj",
        "outputId": "d03030e7-23bc-468c-e37e-1994cb77e14b"
      },
      "execution_count": 4,
      "outputs": [
        {
          "output_type": "stream",
          "name": "stdout",
          "text": [
            "\n",
            " Attributes and Data Types:\n",
            "Id                            int64\n",
            "Pregnancies                   int64\n",
            "Glucose                       int64\n",
            "BloodPressure                 int64\n",
            "SkinThickness                 int64\n",
            "Insulin                       int64\n",
            "BMI                         float64\n",
            "DiabetesPedigreeFunction    float64\n",
            "Age                           int64\n",
            "Outcome                       int64\n",
            "dtype: object\n",
            "Number of attributes: 10\n"
          ]
        }
      ]
    },
    {
      "cell_type": "code",
      "source": [
        "# Number of objects\n",
        "num_records = len(df)\n",
        "print(\"\\n Number of records (rows):\", num_records)"
      ],
      "metadata": {
        "id": "4AEFxBGDIIpt",
        "outputId": "f9075056-c37a-44f7-b71a-d27c73189dc7",
        "colab": {
          "base_uri": "https://localhost:8080/"
        }
      },
      "execution_count": 7,
      "outputs": [
        {
          "output_type": "stream",
          "name": "stdout",
          "text": [
            "\n",
            " Number of records (rows): 2768\n"
          ]
        }
      ]
    },
    {
      "cell_type": "code",
      "source": [
        "#Class attribute with its values and print the count of instances for each label\n",
        "print(\"\\nCount of instances for each label:\")\n",
        "counts = df['Outcome'].value_counts()\n",
        "print(counts)"
      ],
      "metadata": {
        "id": "2QJ-0J_zIWZM",
        "outputId": "6e7a3b07-03ba-4c82-9702-5c4d0c7150cc",
        "colab": {
          "base_uri": "https://localhost:8080/"
        }
      },
      "execution_count": 8,
      "outputs": [
        {
          "output_type": "stream",
          "name": "stdout",
          "text": [
            "\n",
            "Count of instances for each label:\n",
            "Outcome\n",
            "0    1816\n",
            "1     952\n",
            "Name: count, dtype: int64\n"
          ]
        }
      ]
    },
    {
      "cell_type": "code",
      "source": [
        "# sample of the raw dataset\n",
        "print(\"\\n Sample of the raw dataset:\")\n",
        "print(df.head())"
      ],
      "metadata": {
        "id": "XEuFFiLjIZDo",
        "outputId": "84af9985-4d17-42be-b388-2cf64beabeb7",
        "colab": {
          "base_uri": "https://localhost:8080/"
        }
      },
      "execution_count": 9,
      "outputs": [
        {
          "output_type": "stream",
          "name": "stdout",
          "text": [
            "\n",
            " Sample of the raw dataset:\n",
            "   Id  Pregnancies  Glucose  BloodPressure  SkinThickness  Insulin   BMI  \\\n",
            "0   1            6      148             72             35        0  33.6   \n",
            "1   2            1       85             66             29        0  26.6   \n",
            "2   3            8      183             64              0        0  23.3   \n",
            "3   4            1       89             66             23       94  28.1   \n",
            "4   5            0      137             40             35      168  43.1   \n",
            "\n",
            "   DiabetesPedigreeFunction  Age  Outcome  \n",
            "0                     0.627   50        1  \n",
            "1                     0.351   31        0  \n",
            "2                     0.672   32        1  \n",
            "3                     0.167   21        0  \n",
            "4                     2.288   33        1  \n"
          ]
        }
      ]
    }
  ]
}